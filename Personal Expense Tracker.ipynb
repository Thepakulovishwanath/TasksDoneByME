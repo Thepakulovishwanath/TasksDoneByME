{
 "cells": [
  {
   "cell_type": "code",
   "execution_count": 9,
   "id": "788ae348-da48-4143-b60e-718a92fc03c4",
   "metadata": {},
   "outputs": [
    {
     "name": "stdout",
     "output_type": "stream",
     "text": [
      "\n",
      "Personal Expense Tracker Menu:\n",
      "1. Add Expense\n",
      "2. View Expenses\n",
      "3. View Categories\n",
      "4. View Summary\n",
      "5. Quit\n"
     ]
    },
    {
     "name": "stdin",
     "output_type": "stream",
     "text": [
      "Enter your choice:  1\n",
      "Enter expense name:  tea\n",
      "Enter expense amount:  20\n",
      "Enter your expense category (e.g., Food, Transport):  food\n"
     ]
    },
    {
     "name": "stdout",
     "output_type": "stream",
     "text": [
      "\n",
      "Personal Expense Tracker Menu:\n",
      "1. Add Expense\n",
      "2. View Expenses\n",
      "3. View Categories\n",
      "4. View Summary\n",
      "5. Quit\n"
     ]
    },
    {
     "name": "stdin",
     "output_type": "stream",
     "text": [
      "Enter your choice:  1\n",
      "Enter expense name:  ice cream\n"
     ]
    },
    {
     "name": "stdout",
     "output_type": "stream",
     "text": [
      "Invalid name! Please enter a valid expense name.\n"
     ]
    },
    {
     "name": "stdin",
     "output_type": "stream",
     "text": [
      "Enter expense name:  50\n"
     ]
    },
    {
     "name": "stdout",
     "output_type": "stream",
     "text": [
      "Invalid name! Please enter a valid expense name.\n"
     ]
    },
    {
     "name": "stdin",
     "output_type": "stream",
     "text": [
      "Enter expense name:  food\n",
      "Enter expense amount:  1\n",
      "Enter your expense category (e.g., Food, Transport):  biscuits\n"
     ]
    },
    {
     "name": "stdout",
     "output_type": "stream",
     "text": [
      "\n",
      "Personal Expense Tracker Menu:\n",
      "1. Add Expense\n",
      "2. View Expenses\n",
      "3. View Categories\n",
      "4. View Summary\n",
      "5. Quit\n"
     ]
    },
    {
     "name": "stdin",
     "output_type": "stream",
     "text": [
      "Enter your choice:  5\n"
     ]
    },
    {
     "name": "stdout",
     "output_type": "stream",
     "text": [
      "Goodbye!\n"
     ]
    }
   ],
   "source": [
    "# Initialize an empty list to store expense entries\n",
    "# Each entry in the list will be a tuple (name, amount, category)\n",
    "expenses = []\n",
    "\n",
    "# Initialize an empty set to store unique categories of expenses\n",
    "# A set is used to automatically handle unique category entries\n",
    "categories = set()\n",
    "\n",
    "def add_expense():\n",
    "    \"\"\"Add a new expense entry\"\"\"\n",
    "    \n",
    "    # Get the expense name from the user and ensure it is non-empty\n",
    "    while True:\n",
    "        name = input(\"Enter expense name: \").capitalize()  # Capitalizes the first letter\n",
    "        if name.strip():  # Ensures the name is not just empty spaces\n",
    "            break\n",
    "        else:\n",
    "            print(\"Invalid name! Please enter a valid expense name.\")\n",
    "    \n",
    "    # Get the expense amount from the user and ensure it is a positive number\n",
    "    while True:\n",
    "        try:\n",
    "            amount = float(input(\"Enter expense amount: \"))  # Convert input to float for currency\n",
    "            if amount >= 0:  # Only allow positive or zero amounts\n",
    "                break\n",
    "            else:\n",
    "                print(\"Please enter a positive amount.\")\n",
    "        except ValueError:\n",
    "            print(\"Invalid input! Please enter a numeric value.\")  # Catch non-numeric input\n",
    "    \n",
    "    # Get the category of the expense and ensure it is non-empty\n",
    "    while True:\n",
    "        category = input(\"Enter your expense category (e.g., Food, Transport): \").capitalize()\n",
    "        if category.strip():  # Ensures the category is not just empty spaces\n",
    "            break\n",
    "        print(\"Invalid category! Please enter a valid category name.\")\n",
    "    \n",
    "    # Append the new expense entry as a tuple to the expenses list\n",
    "    expenses.append((name, amount, category))\n",
    "    \n",
    "    # Add the category to the categories set to maintain uniqueness\n",
    "    categories.add(category)\n",
    "\n",
    "def view_expenses():\n",
    "    \"\"\"View all expense entries\"\"\"\n",
    "    \n",
    "    # If the expenses list is empty, notify the user\n",
    "    if not expenses:\n",
    "        print(\"No expenses recorded yet.\")\n",
    "    else:\n",
    "        # Loop through each expense and display the details\n",
    "        for expense in expenses:\n",
    "            print(f\"Name: {expense[0]}, Amount: {expense[1]}, Category: {expense[2]}\")\n",
    "\n",
    "def view_categories():\n",
    "    \"\"\"View all unique categories\"\"\"\n",
    "    \n",
    "    # If the categories set is empty, notify the user\n",
    "    if not categories:\n",
    "        print(\"No categories recorded yet.\")\n",
    "    else:\n",
    "        # Print each category in the set\n",
    "        print(\"Categories:\")\n",
    "        for category in categories:\n",
    "            print(category)\n",
    "\n",
    "def view_summary():\n",
    "    \"\"\"View summary of expenses by category\"\"\"\n",
    "    \n",
    "    # If the expenses list is empty, notify the user\n",
    "    if not expenses:\n",
    "        print(\"No expenses recorded yet.\")\n",
    "    else:\n",
    "        # Create a dictionary to store the sum of expenses for each category\n",
    "        # Use a dictionary comprehension to calculate the total amount for each category\n",
    "        summary = {category: sum(amount for name, amount, cat in expenses if cat == category) for category in categories}\n",
    "        \n",
    "        # Display the total expense for each category\n",
    "        print(\"Summary:\")\n",
    "        for category, total in summary.items():\n",
    "            print(f\"{category}: RS{total:.2f}\")  # Format the total to 2 decimal places\n",
    "\n",
    "# Main program loop to display the menu and handle user input\n",
    "while True:\n",
    "    # Display the menu options\n",
    "    print(\"\\nPersonal Expense Tracker Menu:\")\n",
    "    print(\"1. Add Expense\")\n",
    "    print(\"2. View Expenses\")\n",
    "    print(\"3. View Categories\")\n",
    "    print(\"4. View Summary\")\n",
    "    print(\"5. Quit\")\n",
    "    \n",
    "    # Get the user's choice and ensure it's a valid number\n",
    "    try:\n",
    "        choice = int(input(\"Enter your choice: \"))  # Convert input to integer\n",
    "    except ValueError:\n",
    "        print(\"Invalid choice. Please enter a number.\")  # Handle non-numeric input\n",
    "        continue  # Return to the top of the loop\n",
    "    \n",
    "    # Handle user's choice based on the menu options\n",
    "    if choice == 1:\n",
    "        add_expense()  # Call the function to add a new expense\n",
    "    elif choice == 2:\n",
    "        view_expenses()  # Call the function to view all recorded expenses\n",
    "    elif choice == 3:\n",
    "        view_categories()  # Call the function to view unique expense categories\n",
    "    elif choice == 4:\n",
    "        view_summary()  # Call the function to view summary of expenses by category\n",
    "    elif choice == 5:\n",
    "        print(\"Goodbye!\")  # Exit the program\n",
    "        break  # Break the loop to end the program\n",
    "    else:\n",
    "        print(\"Invalid choice. Please try again.\")  # Handle invalid menu options\n"
   ]
  },
  {
   "cell_type": "code",
   "execution_count": null,
   "id": "6018529d-501e-4a26-8a39-7f05042aa74f",
   "metadata": {},
   "outputs": [],
   "source": []
  }
 ],
 "metadata": {
  "kernelspec": {
   "display_name": "Python 3 (ipykernel)",
   "language": "python",
   "name": "python3"
  },
  "language_info": {
   "codemirror_mode": {
    "name": "ipython",
    "version": 3
   },
   "file_extension": ".py",
   "mimetype": "text/x-python",
   "name": "python",
   "nbconvert_exporter": "python",
   "pygments_lexer": "ipython3",
   "version": "3.12.4"
  }
 },
 "nbformat": 4,
 "nbformat_minor": 5
}
