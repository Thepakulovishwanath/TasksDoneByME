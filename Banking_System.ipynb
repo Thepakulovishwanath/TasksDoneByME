{
 "cells": [
  {
   "cell_type": "code",
   "execution_count": null,
   "id": "2abf73fa-bfeb-4954-8b39-108d2b1d6d46",
   "metadata": {},
   "outputs": [
    {
     "name": "stdout",
     "output_type": "stream",
     "text": [
      "Press 1 for Check Balance\n",
      "Press 2 for Deposit\n",
      "Press 3 for Withdraw\n"
     ]
    },
    {
     "name": "stdin",
     "output_type": "stream",
     "text": [
      "Enter a Number:  2\n",
      "Enter deposit amount:  12000\n"
     ]
    },
    {
     "name": "stdout",
     "output_type": "stream",
     "text": [
      "Total balance after deposit is  112000\n"
     ]
    },
    {
     "name": "stdin",
     "output_type": "stream",
     "text": [
      "Enter 9 to Continue or 0 to Exit:  9\n"
     ]
    },
    {
     "name": "stdout",
     "output_type": "stream",
     "text": [
      "Press 1 for Check Balance\n",
      "Press 2 for Deposit\n",
      "Press 3 for Withdraw\n"
     ]
    },
    {
     "name": "stdin",
     "output_type": "stream",
     "text": [
      "Enter a Number:  3\n",
      "Enter withdraw amount:  600000\n"
     ]
    },
    {
     "name": "stdout",
     "output_type": "stream",
     "text": [
      "Insufficient balance!\n"
     ]
    },
    {
     "name": "stdin",
     "output_type": "stream",
     "text": [
      "Enter withdraw amount:  5000\n"
     ]
    },
    {
     "name": "stdout",
     "output_type": "stream",
     "text": [
      "Total balance after withdrawal is  107000\n"
     ]
    },
    {
     "name": "stdin",
     "output_type": "stream",
     "text": [
      "Enter 9 to Continue or 0 to Exit:  9\n"
     ]
    },
    {
     "name": "stdout",
     "output_type": "stream",
     "text": [
      "Press 1 for Check Balance\n",
      "Press 2 for Deposit\n",
      "Press 3 for Withdraw\n"
     ]
    }
   ],
   "source": [
    "# Initialize the total amount\n",
    "Total_Amount = 100000\n",
    "\n",
    "# Main loop to interact with the banking system\n",
    "while True:\n",
    "    # Define the check_balance function\n",
    "    def check_balance():\n",
    "        # Display the current balance\n",
    "        print(\"Your balance is \", Total_Amount)\n",
    "\n",
    "    # Define the deposit function\n",
    "    def deposit():\n",
    "        global Total_Amount\n",
    "        # Loop until a valid deposit amount is entered\n",
    "        while True:\n",
    "            try:\n",
    "                # Prompt the user to enter a deposit amount\n",
    "                dep_amount = int(input(\"Enter deposit amount: \"))\n",
    "                # Check if the deposit amount is invalid (less than or equal to zero)\n",
    "                if dep_amount <= 0:\n",
    "                    print(\"Error: Invalid deposit amount. Please enter a positive value.\")\n",
    "                else:\n",
    "                    # Add the deposit amount to the total amount\n",
    "                    Total_Amount += dep_amount\n",
    "                    print(\"Total balance after deposit is \", Total_Amount)\n",
    "                    # Break out of the loop\n",
    "                    break\n",
    "            except ValueError:\n",
    "                # Handle invalid input (non-numeric characters)\n",
    "                print(\"Error: Invalid input. Please enter a valid amount.\")\n",
    "\n",
    "    # Define the withdraw function\n",
    "    def withdraw():\n",
    "        global Total_Amount\n",
    "        # Loop until a valid withdrawal amount is entered\n",
    "        while True:\n",
    "            try:\n",
    "                # Prompt the user to enter a withdrawal amount\n",
    "                withdraw_amount = int(input(\"Enter withdraw amount: \"))\n",
    "                # Check if the withdrawal amount is invalid (less than or equal to zero)\n",
    "                if withdraw_amount <= 0:\n",
    "                    print(\"Error: Invalid withdrawal amount. Please enter a positive value.\")\n",
    "                # Check if the withdrawal amount exceeds the available balance\n",
    "                elif withdraw_amount > Total_Amount:\n",
    "                    print(\"Insufficient balance!\")\n",
    "                else:\n",
    "                    # Subtract the withdrawal amount from the total amount\n",
    "                    Total_Amount -= withdraw_amount\n",
    "                    print(\"Total balance after withdrawal is \", Total_Amount)\n",
    "                    # Break out of the loop\n",
    "                    break\n",
    "            except ValueError:\n",
    "                # Handle invalid input (non-numeric characters)\n",
    "                print(\"Error: Invalid input. Please enter a valid amount.\")\n",
    "\n",
    "    # Display the menu options\n",
    "    print(\"Press 1 for Check Balance\")\n",
    "    print(\"Press 2 for Deposit\")\n",
    "    print(\"Press 3 for Withdraw\")\n",
    "\n",
    "    # Loop until a valid menu option is entered\n",
    "    while True:\n",
    "        try:\n",
    "            # Prompt the user to enter a menu option\n",
    "            user_input = int(input(\"Enter a Number: \"))\n",
    "            break\n",
    "        except ValueError:\n",
    "            # Handle invalid input (non-numeric characters)\n",
    "            print(\"Error: Invalid input. Please enter a valid number.\")\n",
    "\n",
    "    # Process the user's menu option\n",
    "    if user_input == 1:\n",
    "        check_balance()\n",
    "    elif user_input == 2:\n",
    "        deposit()\n",
    "    elif user_input == 3:\n",
    "        withdraw()\n",
    "    else:\n",
    "        print(\"Invalid input\")\n",
    "\n",
    "    # Loop until a valid continue/exit option is entered\n",
    "    while True:\n",
    "        try:\n",
    "            # Prompt the user to enter a continue/exit option\n",
    "            result = int(input(\"Enter 9 to Continue or 0 to Exit: \"))\n",
    "            break\n",
    "        except ValueError:\n",
    "            # Handle invalid input (non-numeric characters)\n",
    "            print(\"Error: Invalid input. Please enter a valid number.\")\n",
    "\n",
    "    # Process the user's continue/exit option\n",
    "    if result == 9:\n",
    "        continue\n",
    "    elif result == 0:\n",
    "        break\n",
    "    else:\n",
    "        print(\"Invalid input\")"
   ]
  },
  {
   "cell_type": "code",
   "execution_count": null,
   "id": "536c88ca-480a-4e3c-8102-b317fdb42a4e",
   "metadata": {},
   "outputs": [],
   "source": []
  }
 ],
 "metadata": {
  "kernelspec": {
   "display_name": "Python 3 (ipykernel)",
   "language": "python",
   "name": "python3"
  },
  "language_info": {
   "codemirror_mode": {
    "name": "ipython",
    "version": 3
   },
   "file_extension": ".py",
   "mimetype": "text/x-python",
   "name": "python",
   "nbconvert_exporter": "python",
   "pygments_lexer": "ipython3",
   "version": "3.12.4"
  }
 },
 "nbformat": 4,
 "nbformat_minor": 5
}
