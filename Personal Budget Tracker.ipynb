{
 "cells": [
  {
   "cell_type": "markdown",
   "id": "90af30af-62df-44d6-9f29-76b0af87cd2f",
   "metadata": {},
   "source": [
    "#Personal Budget Tracker:"
   ]
  },
  {
   "cell_type": "code",
   "execution_count": 3,
   "id": "ece66f87-51ef-4e0a-8245-b0637d611c65",
   "metadata": {},
   "outputs": [],
   "source": [
    "#Personal Budget Tracker: Develop a budget tracking program that saves \n",
    "#income and expenses to a CSV file and calculates the user’s monthly savings."
   ]
  },
  {
   "cell_type": "code",
   "execution_count": 1,
   "id": "d7c35788-0e2e-43e8-a5fe-fff2f57c70a7",
   "metadata": {},
   "outputs": [
    {
     "name": "stdout",
     "output_type": "stream",
     "text": [
      "\n",
      "--- Expense Tracker ---\n",
      "1: To add Expenses\n",
      "2: To View Savings\n",
      "3: To View Expenses\n",
      "0: To Exit\n"
     ]
    },
    {
     "name": "stdin",
     "output_type": "stream",
     "text": [
      "Choose a Number:  1\n",
      "Enter date (YYYY-MM-DD):  2024-10-20\n",
      "Enter your Expenses:  Food\n"
     ]
    },
    {
     "name": "stdout",
     "output_type": "stream",
     "text": [
      "Please enter a valid number for expenses.\n",
      "\n",
      "--- Expense Tracker ---\n",
      "1: To add Expenses\n",
      "2: To View Savings\n",
      "3: To View Expenses\n",
      "0: To Exit\n"
     ]
    },
    {
     "name": "stdin",
     "output_type": "stream",
     "text": [
      "Choose a Number:  2\n"
     ]
    },
    {
     "name": "stdout",
     "output_type": "stream",
     "text": [
      "Fixed Income: 50000\n",
      "Total Expenses: 0\n",
      "Remaining Savings: 50000\n",
      "\n",
      "--- Expense Tracker ---\n",
      "1: To add Expenses\n",
      "2: To View Savings\n",
      "3: To View Expenses\n",
      "0: To Exit\n"
     ]
    },
    {
     "name": "stdin",
     "output_type": "stream",
     "text": [
      "Choose a Number:  1\n",
      "Enter date (YYYY-MM-DD):  2024-20-20\n",
      "Enter your Expenses:  1000\n",
      "Enter the description:  Food\n"
     ]
    },
    {
     "name": "stdout",
     "output_type": "stream",
     "text": [
      "Expense added successfully!\n",
      "\n",
      "--- Expense Tracker ---\n",
      "1: To add Expenses\n",
      "2: To View Savings\n",
      "3: To View Expenses\n",
      "0: To Exit\n"
     ]
    },
    {
     "name": "stdin",
     "output_type": "stream",
     "text": [
      "Choose a Number:  2\n"
     ]
    },
    {
     "name": "stdout",
     "output_type": "stream",
     "text": [
      "Fixed Income: 50000\n",
      "Total Expenses: 1000\n",
      "Remaining Savings: 49000\n",
      "\n",
      "--- Expense Tracker ---\n",
      "1: To add Expenses\n",
      "2: To View Savings\n",
      "3: To View Expenses\n",
      "0: To Exit\n"
     ]
    },
    {
     "name": "stdin",
     "output_type": "stream",
     "text": [
      "Choose a Number:  3\n"
     ]
    },
    {
     "name": "stdout",
     "output_type": "stream",
     "text": [
      "Date\tIncome\tExpense\tDescription\n",
      "2024-20-20\t50000\t1000\tFood\n",
      "\n",
      "--- Expense Tracker ---\n",
      "1: To add Expenses\n",
      "2: To View Savings\n",
      "3: To View Expenses\n",
      "0: To Exit\n"
     ]
    },
    {
     "name": "stdin",
     "output_type": "stream",
     "text": [
      "Choose a Number:  0\n"
     ]
    },
    {
     "name": "stdout",
     "output_type": "stream",
     "text": [
      "Exiting the program. Goodbye!\n"
     ]
    }
   ],
   "source": [
    "import csv\n",
    "\n",
    "# Fixed income\n",
    "FIXED_INCOME = 50000\n",
    "\n",
    "# Function to add expenses\n",
    "def add_expenses(date, expense, description):\n",
    "    with open(\"Expenses.csv\", 'a', newline=\"\") as file:\n",
    "        writer = csv.writer(file)\n",
    "        writer.writerow([date, FIXED_INCOME, expense, description])\n",
    "    print(\"Expense added successfully!\")\n",
    "\n",
    "# Function to calculate and view savings\n",
    "def savings():\n",
    "    try:\n",
    "        with open(\"Expenses.csv\", 'r') as file:\n",
    "            reader = csv.reader(file)\n",
    "            expenses = [int(row[2]) for row in reader]  # List comprehension to extract expenses\n",
    "        total_expenses = sum(expenses)  # Sum the expenses\n",
    "        total_savings = FIXED_INCOME - total_expenses\n",
    "        print(f\"Fixed Income: {FIXED_INCOME}\")\n",
    "        print(f\"Total Expenses: {total_expenses}\")\n",
    "        print(f\"Remaining Savings: {total_savings}\")\n",
    "    except FileNotFoundError:\n",
    "        print(\"No expenses recorded yet!\")\n",
    "\n",
    "# Function to view expenses\n",
    "def view_expenses():\n",
    "    try:\n",
    "        with open(\"Expenses.csv\", 'r') as file:\n",
    "            reader = csv.reader(file)\n",
    "            print(\"Date\\tIncome\\tExpense\\tDescription\")\n",
    "            for row in reader:\n",
    "                print(\"\\t\".join(row))\n",
    "    except FileNotFoundError:\n",
    "        print(\"No expenses recorded yet.\")\n",
    "\n",
    "# Main program logic with a loop\n",
    "while True:\n",
    "    print(\"\\n--- Expense Tracker ---\")\n",
    "    print(\"1: To add Expenses\")\n",
    "    print(\"2: To View Savings\")\n",
    "    print(\"3: To View Expenses\")\n",
    "    print(\"0: To Exit\")\n",
    "\n",
    "    try:\n",
    "        res = int(input(\"Choose a Number: \"))\n",
    "    except ValueError:\n",
    "        print(\"Please enter a valid number.\")\n",
    "        continue\n",
    "\n",
    "    if res == 1:\n",
    "        date = input(\"Enter date (YYYY-MM-DD): \")\n",
    "        try:\n",
    "            expense = int(input(\"Enter your Expenses: \"))\n",
    "            description = input(\"Enter the description: \")\n",
    "            add_expenses(date, expense, description)\n",
    "        except ValueError:\n",
    "            print(\"Please enter a valid number for expenses.\")\n",
    "\n",
    "    elif res == 2:\n",
    "        savings()\n",
    "\n",
    "    elif res == 3:\n",
    "        view_expenses()\n",
    "\n",
    "    elif res == 0:\n",
    "        print(\"Exiting the program. Goodbye!\")\n",
    "        break  # Exit the loop and program\n",
    "\n",
    "    else:\n",
    "        print(\"Enter a valid option.\")\n"
   ]
  },
  {
   "cell_type": "code",
   "execution_count": null,
   "id": "615e9405-34b1-49a0-af45-09cfce7a64d9",
   "metadata": {},
   "outputs": [],
   "source": []
  }
 ],
 "metadata": {
  "kernelspec": {
   "display_name": "Python 3 (ipykernel)",
   "language": "python",
   "name": "python3"
  },
  "language_info": {
   "codemirror_mode": {
    "name": "ipython",
    "version": 3
   },
   "file_extension": ".py",
   "mimetype": "text/x-python",
   "name": "python",
   "nbconvert_exporter": "python",
   "pygments_lexer": "ipython3",
   "version": "3.12.4"
  }
 },
 "nbformat": 4,
 "nbformat_minor": 5
}
