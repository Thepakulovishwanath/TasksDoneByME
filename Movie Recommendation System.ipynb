{
 "cells": [
  {
   "cell_type": "code",
   "execution_count": 5,
   "id": "ad5ee481-8050-476a-91f6-e6a91cf5f485",
   "metadata": {},
   "outputs": [
    {
     "name": "stdout",
     "output_type": "stream",
     "text": [
      "Please enter 1 for Movie Recommendation and 0 to Exit\n"
     ]
    },
    {
     "name": "stdin",
     "output_type": "stream",
     "text": [
      "Enter a number:  1\n"
     ]
    },
    {
     "name": "stdout",
     "output_type": "stream",
     "text": [
      "****WELCOME to Movie Recommendation System****\n",
      "These are the genres you have :  {'Scientific', 'Sentimental', 'Crime', 'Family', 'Romance', 'Action'}\n"
     ]
    },
    {
     "name": "stdin",
     "output_type": "stream",
     "text": [
      "Enter your preferred genre :  action\n"
     ]
    },
    {
     "name": "stdout",
     "output_type": "stream",
     "text": [
      "Here are your movie recommendations : Devara\n",
      "Please enter 1 for Movie Recommendation and 0 to Exit\n"
     ]
    },
    {
     "name": "stdin",
     "output_type": "stream",
     "text": [
      "Enter a number:  0\n"
     ]
    }
   ],
   "source": [
    "# Initialize genres and movie list\n",
    "genres = set()  # This will store unique genres\n",
    "\n",
    "# List of movie dictionaries, each containing a title and genre\n",
    "movies = [\n",
    "    {\"title\": 'Persuit of Happyness', \"genre\": 'Sentimental'},\n",
    "    {\"title\": 'Avengers', \"genre\": 'Scientific'},\n",
    "    {\"title\": 'Interstellar', \"genre\": 'Scientific'},\n",
    "    {\"title\": 'Predestination', \"genre\": 'Sentimental'},\n",
    "    {\"title\": 'Chandamama', \"genre\": 'Family'},\n",
    "    {\"title\": 'Tulasi', \"genre\": 'Romance'},\n",
    "    {\"title\": 'Love Story', \"genre\": 'Romance'},\n",
    "    {\"title\": 'Devara', \"genre\": 'Action'},\n",
    "    {\"title\": 'Hit', \"genre\": 'Crime'}\n",
    "]\n",
    "\n",
    "# Populate the 'genres' set with unique genres from the 'movies' list\n",
    "for item in movies:\n",
    "    genres.add(item[\"genre\"])\n",
    "\n",
    "# Function to recommend movies based on the user's selected genre\n",
    "def movieRecommendation():\n",
    "    print(\"****WELCOME to Movie Recommendation System****\")\n",
    "    \n",
    "    # Display the list of available genres\n",
    "    print(\"These are the genres you have : \", genres)\n",
    "    genre1=input(\"Enter your preferred genre : \").capitalize()\n",
    "    \n",
    "    # Initialize a flag to check if any movies are found for the selected genre\n",
    "    found = False\n",
    "    \n",
    "    # Loop through the movies to find matches for the selected genre\n",
    "    for movie in movies:\n",
    "        if movie['genre'] == genre1:  \n",
    "            print(\"Here are your movie recommendations :\", movie['title'])\n",
    "            found = True\n",
    "    \n",
    "    # Inform the user if no movies are found for the selected genre\n",
    "    if not found:\n",
    "        print(\"Sorry, no movies found for that genre. Please try again.\")\n",
    "\n",
    "# Main program loop to keep asking for user input until they choose to exit\n",
    "while True:\n",
    "    print(\"Please enter 1 for Movie Recommendation and 0 to Exit\")\n",
    "    \n",
    "    # Get user input to either recommend movies or exit\n",
    "    choice = int(input(\"Enter a number: \"))\n",
    "    \n",
    "    # If the user selects 1, call the movie recommendation function\n",
    "    if choice == 1:\n",
    "        movieRecommendation()\n",
    "    \n",
    "    # If the user selects 0, break the loop and exit the program\n",
    "    elif choice == 0:\n",
    "        break\n",
    "    \n",
    "    # Handle invalid inputs that are not 1 or 0\n",
    "    else:\n",
    "        print(\"Please enter a valid number (1 for recommendation, 0 to exit)\")"
   ]
  },
  {
   "cell_type": "code",
   "execution_count": null,
   "id": "390f5cc3-35fb-4907-8e3a-415b18b25659",
   "metadata": {},
   "outputs": [],
   "source": []
  }
 ],
 "metadata": {
  "kernelspec": {
   "display_name": "Python 3 (ipykernel)",
   "language": "python",
   "name": "python3"
  },
  "language_info": {
   "codemirror_mode": {
    "name": "ipython",
    "version": 3
   },
   "file_extension": ".py",
   "mimetype": "text/x-python",
   "name": "python",
   "nbconvert_exporter": "python",
   "pygments_lexer": "ipython3",
   "version": "3.12.4"
  }
 },
 "nbformat": 4,
 "nbformat_minor": 5
}
