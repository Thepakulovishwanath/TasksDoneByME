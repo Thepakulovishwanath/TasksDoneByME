{
 "cells": [
  {
   "cell_type": "code",
   "execution_count": 17,
   "id": "ca43f3a9-1111-4c4a-89f0-46ba1e201923",
   "metadata": {},
   "outputs": [
    {
     "name": "stdout",
     "output_type": "stream",
     "text": [
      "\n",
      "Enter a Number to select option:\n",
      "1. Add Task\n",
      "2. Complete Task\n",
      "3. Remove Task\n",
      "4. View Tasks\n",
      "5. Update Task\n",
      "6. Exit program\n"
     ]
    },
    {
     "name": "stdin",
     "output_type": "stream",
     "text": [
      "Please enter your choice:  1\n",
      "Enter a Task Name:  reading\n",
      "Enter due date of task:  24-10-2024\n"
     ]
    },
    {
     "name": "stdout",
     "output_type": "stream",
     "text": [
      "Task 'reading' added successfully.\n",
      "\n",
      "Enter a Number to select option:\n",
      "1. Add Task\n",
      "2. Complete Task\n",
      "3. Remove Task\n",
      "4. View Tasks\n",
      "5. Update Task\n",
      "6. Exit program\n"
     ]
    },
    {
     "name": "stdin",
     "output_type": "stream",
     "text": [
      "Please enter your choice:  1\n",
      "Enter a Task Name:  writing\n",
      "Enter due date of task:  10-10-2024\n"
     ]
    },
    {
     "name": "stdout",
     "output_type": "stream",
     "text": [
      "Task 'writing' added successfully.\n",
      "\n",
      "Enter a Number to select option:\n",
      "1. Add Task\n",
      "2. Complete Task\n",
      "3. Remove Task\n",
      "4. View Tasks\n",
      "5. Update Task\n",
      "6. Exit program\n"
     ]
    },
    {
     "name": "stdin",
     "output_type": "stream",
     "text": [
      "Please enter your choice:  4\n"
     ]
    },
    {
     "name": "stdout",
     "output_type": "stream",
     "text": [
      "1. Task: reading, Due Date: 24-10-2024\n",
      "2. Task: writing, Due Date: 10-10-2024\n",
      "\n",
      "Enter a Number to select option:\n",
      "1. Add Task\n",
      "2. Complete Task\n",
      "3. Remove Task\n",
      "4. View Tasks\n",
      "5. Update Task\n",
      "6. Exit program\n"
     ]
    },
    {
     "name": "stdin",
     "output_type": "stream",
     "text": [
      "Please enter your choice:  2\n"
     ]
    },
    {
     "name": "stdout",
     "output_type": "stream",
     "text": [
      "Available tasks:\n",
      "1. reading - 24-10-2024\n",
      "2. writing - 10-10-2024\n"
     ]
    },
    {
     "name": "stdin",
     "output_type": "stream",
     "text": [
      "Enter the task number you want to complete:  1\n"
     ]
    },
    {
     "name": "stdout",
     "output_type": "stream",
     "text": [
      "Task 'reading' completed successfully!\n",
      "\n",
      "Enter a Number to select option:\n",
      "1. Add Task\n",
      "2. Complete Task\n",
      "3. Remove Task\n",
      "4. View Tasks\n",
      "5. Update Task\n",
      "6. Exit program\n"
     ]
    },
    {
     "name": "stdin",
     "output_type": "stream",
     "text": [
      "Please enter your choice:  4\n"
     ]
    },
    {
     "name": "stdout",
     "output_type": "stream",
     "text": [
      "1. Task: writing, Due Date: 10-10-2024\n",
      "\n",
      "Enter a Number to select option:\n",
      "1. Add Task\n",
      "2. Complete Task\n",
      "3. Remove Task\n",
      "4. View Tasks\n",
      "5. Update Task\n",
      "6. Exit program\n"
     ]
    },
    {
     "name": "stdin",
     "output_type": "stream",
     "text": [
      "Please enter your choice:  6\n"
     ]
    },
    {
     "name": "stdout",
     "output_type": "stream",
     "text": [
      "Exiting the program.\n"
     ]
    }
   ],
   "source": [
    "# Initialize an empty list to store tasks\n",
    "tasks = []\n",
    "\n",
    "# Function to add a new task\n",
    "def add_Task():\n",
    "    # Get the task name and due date from the user\n",
    "    task_name = input(\"Enter a Task Name: \")\n",
    "    due_date = input(\"Enter due date of task: \")\n",
    "    \n",
    "    # Create a tuple with the task name and due date and append it to the task list\n",
    "    task = (task_name, due_date)\n",
    "    tasks.append(task)\n",
    "    print(f\"Task '{task_name}' added successfully.\")\n",
    "\n",
    "# Function to mark a task as complete\n",
    "def complete_Task():\n",
    "    # Check if there are any tasks to complete\n",
    "    if len(tasks) == 0:\n",
    "        print(\"No tasks available to complete.\")\n",
    "        return\n",
    "\n",
    "    # Display available tasks\n",
    "    print(\"Available tasks:\")\n",
    "    for i in range(len(tasks)):\n",
    "        print(f\"{i+1}. {tasks[i][0]} - {tasks[i][1]}\")  # Print task number, name, and due date\n",
    "\n",
    "    # Get the task number to mark as completed\n",
    "    task_number = int(input(\"Enter the task number you want to complete: \"))\n",
    "    \n",
    "    # Check if the entered task number is valid\n",
    "    if task_number < 1 or task_number > len(tasks):\n",
    "        print(\"Invalid task number!\")\n",
    "        return\n",
    "\n",
    "    # Remove the completed task from the task list and display a success message\n",
    "    task_name, due_date = tasks[task_number - 1]\n",
    "    print(f\"Task '{task_name}' completed successfully!\")\n",
    "    tasks.pop(task_number - 1)\n",
    "\n",
    "# Function to remove a task\n",
    "def remove_Task():\n",
    "    # Check if there are any tasks to remove\n",
    "    if len(tasks) == 0:\n",
    "        print(\"No tasks available to remove.\")\n",
    "        return\n",
    "\n",
    "    # Display available tasks\n",
    "    print(\"Available tasks:\")\n",
    "    for i in range(len(tasks)):\n",
    "        print(f\"{i+1}. {tasks[i][0]} - {tasks[i][1]}\")  # Print task number, name, and due date\n",
    "\n",
    "    # Get the task number to remove\n",
    "    task_number = int(input(\"Enter the task number you want to remove: \"))\n",
    "    \n",
    "    # Check if the entered task number is valid\n",
    "    if task_number < 1 or task_number > len(tasks):\n",
    "        print(\"Invalid task number!\")\n",
    "        return\n",
    "\n",
    "    # Remove the task and display a success message\n",
    "    task_name, due_date = tasks[task_number - 1]\n",
    "    print(f\"Task '{task_name}' removed successfully!\")\n",
    "    tasks.pop(task_number - 1)\n",
    "\n",
    "# Function to view all tasks\n",
    "def view_Task():\n",
    "    # Check if there are any tasks to view\n",
    "    if len(tasks) == 0:\n",
    "        print(\"No tasks available.\")\n",
    "    else:\n",
    "        # Display all tasks with their respective numbers, names, and due dates\n",
    "        for i in range(len(tasks)):\n",
    "            task_name, due_date = tasks[i]\n",
    "            print(f\"{i+1}. Task: {task_name}, Due Date: {due_date}\")\n",
    "\n",
    "# Function to update an existing task\n",
    "def update_Task():\n",
    "    # Check if there are any tasks to update\n",
    "    if len(tasks) == 0:\n",
    "        print(\"No tasks available to update.\")\n",
    "        return\n",
    "\n",
    "    # Display available tasks\n",
    "    print(\"Available tasks:\")\n",
    "    for i in range(len(tasks)):\n",
    "        print(f\"{i+1}. {tasks[i][0]} - {tasks[i][1]}\")  # Print task number, name, and due date\n",
    "\n",
    "    # Get the task number to update\n",
    "    task_number = int(input(\"Enter the task number you want to update: \"))\n",
    "    \n",
    "    # Check if the entered task number is valid\n",
    "    if task_number < 1 or task_number > len(tasks):\n",
    "        print(\"Invalid task number!\")\n",
    "        return\n",
    "\n",
    "    # Get new task name and due date from the user\n",
    "    task_name = input(\"Enter new task name: \")\n",
    "    due_date = input(\"Enter new due date: \")\n",
    "    \n",
    "    # Update the task in the list and display a success message\n",
    "    tasks[task_number - 1] = (task_name, due_date)\n",
    "    print(\"Task updated successfully!\")\n",
    "\n",
    "# Main program loop\n",
    "while True:\n",
    "    # Display the options for the user\n",
    "    print(\"\\nEnter a Number to select option:\")\n",
    "    print(\"1. Add Task\")\n",
    "    print(\"2. Complete Task\")\n",
    "    print(\"3. Remove Task\")\n",
    "    print(\"4. View Tasks\")\n",
    "    print(\"5. Update Task\")\n",
    "    print(\"6. Exit program\")\n",
    "    \n",
    "    # Get the user's choice\n",
    "    choice = int(input(\"Please enter your choice: \"))\n",
    "    \n",
    "    # Call the corresponding function based on the user's choice\n",
    "    if choice == 1:\n",
    "        add_Task()\n",
    "    elif choice == 2:\n",
    "        complete_Task()\n",
    "    elif choice == 3:\n",
    "        remove_Task()\n",
    "    elif choice == 4:\n",
    "        view_Task()\n",
    "    elif choice == 5:\n",
    "        update_Task()\n",
    "    elif choice == 6:\n",
    "        print(\"Exiting the program.\")\n",
    "        break  # Exit the loop and end the program\n",
    "    else:\n",
    "        # Handle invalid input\n",
    "        print(\"Invalid input! Please enter a valid input (1,2,3,4,5,6).\")\n"
   ]
  },
  {
   "cell_type": "code",
   "execution_count": null,
   "id": "ebb1981e-6f3b-4219-abcd-614773caac2c",
   "metadata": {},
   "outputs": [],
   "source": []
  }
 ],
 "metadata": {
  "kernelspec": {
   "display_name": "Python 3 (ipykernel)",
   "language": "python",
   "name": "python3"
  },
  "language_info": {
   "codemirror_mode": {
    "name": "ipython",
    "version": 3
   },
   "file_extension": ".py",
   "mimetype": "text/x-python",
   "name": "python",
   "nbconvert_exporter": "python",
   "pygments_lexer": "ipython3",
   "version": "3.12.4"
  }
 },
 "nbformat": 4,
 "nbformat_minor": 5
}
