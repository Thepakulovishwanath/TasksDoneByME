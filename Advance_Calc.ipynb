{
 "cells": [
  {
   "cell_type": "code",
   "execution_count": null,
   "id": "df0c60fa-d097-45e7-9584-83faddcca38b",
   "metadata": {},
   "outputs": [
    {
     "name": "stdout",
     "output_type": "stream",
     "text": [
      "Enter 1 for Addition\n",
      "Enter 2 for Subtraction\n",
      "Enter 3 for Multiplication\n",
      "Enter 4 for Division\n"
     ]
    },
    {
     "name": "stdin",
     "output_type": "stream",
     "text": [
      "Enter choice (1/2/3/4):  1\n",
      "Enter the first number:  20\n",
      "Enter the second number:  20\n"
     ]
    },
    {
     "name": "stdout",
     "output_type": "stream",
     "text": [
      "Result: 20.0 + 20.0 = 40.0\n"
     ]
    },
    {
     "name": "stdin",
     "output_type": "stream",
     "text": [
      "Do you want to perform another calculation? (yes/no):  yes\n",
      "Enter choice (1/2/3/4):  1\n",
      "Enter the first number:  a\n"
     ]
    },
    {
     "name": "stdout",
     "output_type": "stream",
     "text": [
      "Error: Please enter valid numbers.\n"
     ]
    },
    {
     "name": "stdin",
     "output_type": "stream",
     "text": [
      "Enter choice (1/2/3/4):  1\n",
      "Enter the first number:  30\n",
      "Enter the second number:  a\n"
     ]
    },
    {
     "name": "stdout",
     "output_type": "stream",
     "text": [
      "Error: Please enter valid numbers.\n"
     ]
    },
    {
     "name": "stdin",
     "output_type": "stream",
     "text": [
      "Enter choice (1/2/3/4):  5\n"
     ]
    },
    {
     "name": "stdout",
     "output_type": "stream",
     "text": [
      "Invalid input. Please choose a valid operation (1, 2, 3, 4).\n"
     ]
    }
   ],
   "source": [
    "# Define a function to perform addition\n",
    "def add(a, b):\n",
    "    # Return the sum of a and b\n",
    "    return a + b\n",
    "\n",
    "# Define a function to perform subtraction\n",
    "def sub(a, b):\n",
    "    # Return the difference of a and b\n",
    "    return a - b\n",
    "\n",
    "# Define a function to perform multiplication\n",
    "def mul(a, b):\n",
    "    # Return the product of a and b\n",
    "    return a * b\n",
    "\n",
    "# Define a function to perform division\n",
    "def div(a, b):\n",
    "    # Return the quotient of a and b\n",
    "    return a / b\n",
    "\n",
    "# Define the main calculator function\n",
    "def calculator():\n",
    "    # Print the available operations\n",
    "    print(\"Enter 1 for Addition\")\n",
    "    print(\"Enter 2 for Subtraction\")\n",
    "    print(\"Enter 3 for Multiplication\")\n",
    "    print(\"Enter 4 for Division\")\n",
    "\n",
    "    # Use a while loop to continuously prompt the user for input\n",
    "    while True:\n",
    "        try:\n",
    "            # Ask the user to choose an operation\n",
    "            operator = input(\"Enter choice (1/2/3/4): \")\n",
    "\n",
    "            # Check if the input is valid\n",
    "            if operator not in ['1', '2', '3', '4']:\n",
    "                print(\"Invalid input. Please choose a valid operation (1, 2, 3, 4).\")\n",
    "                continue\n",
    "\n",
    "            # Ask the user to enter the first number\n",
    "            num1 = float(input(\"Enter the first number: \"))\n",
    "\n",
    "            # Ask the user to enter the second number\n",
    "            num2 = float(input(\"Enter the second number: \"))\n",
    "\n",
    "            # Perform the chosen operation\n",
    "            if operator == \"1\":\n",
    "                # Perform addition\n",
    "                print(f\"Result: {num1} + {num2} = {add(num1, num2)}\")\n",
    "            elif operator == \"2\":\n",
    "                # Perform subtraction\n",
    "                print(f\"Result: {num1} - {num2} = {sub(num1, num2)}\")\n",
    "            elif operator == \"3\":\n",
    "                # Perform multiplication\n",
    "                print(f\"Result: {num1} * {num2} = {mul(num1, num2)}\")\n",
    "            elif operator == \"4\":\n",
    "                try:\n",
    "                    # Perform division\n",
    "                    result = div(num1, num2)\n",
    "                    print(f\"Result: {num1} / {num2} = {result}\")\n",
    "                except ZeroDivisionError:\n",
    "                    # Handle division by zero error\n",
    "                    print(\"Error: Division by zero is not allowed.\")\n",
    "\n",
    "            # Ask the user if they want to perform another calculation\n",
    "            next_calc = input(\"Do you want to perform another calculation? (yes/no): \").lower()\n",
    "\n",
    "            # If the user doesn't want to perform another calculation, break the loop\n",
    "            if next_calc != 'yes':\n",
    "                print(\"Thank you for using the calculator!\")\n",
    "                break\n",
    "\n",
    "        except ValueError:\n",
    "            # Handle invalid input error\n",
    "            print(\"Error: Please enter valid numbers.\")\n",
    "\n",
    "# Call the calculator function\n",
    "calculator()"
   ]
  },
  {
   "cell_type": "code",
   "execution_count": null,
   "id": "2433ed0a-4e13-4aa7-83d9-7bbdb73b6c92",
   "metadata": {},
   "outputs": [],
   "source": []
  }
 ],
 "metadata": {
  "kernelspec": {
   "display_name": "Python 3 (ipykernel)",
   "language": "python",
   "name": "python3"
  },
  "language_info": {
   "codemirror_mode": {
    "name": "ipython",
    "version": 3
   },
   "file_extension": ".py",
   "mimetype": "text/x-python",
   "name": "python",
   "nbconvert_exporter": "python",
   "pygments_lexer": "ipython3",
   "version": "3.12.4"
  }
 },
 "nbformat": 4,
 "nbformat_minor": 5
}
