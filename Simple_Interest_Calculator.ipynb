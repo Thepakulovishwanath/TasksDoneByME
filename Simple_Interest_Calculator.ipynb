{
 "cells": [
  {
   "cell_type": "code",
   "execution_count": 5,
   "id": "ba88955c-e6bb-46cd-859e-98548ac364c1",
   "metadata": {},
   "outputs": [
    {
     "name": "stdin",
     "output_type": "stream",
     "text": [
      "Enter Initial Amount 100000\n",
      "Enter of rate of interest 15\n",
      "Enter No. of years 2\n"
     ]
    },
    {
     "name": "stdout",
     "output_type": "stream",
     "text": [
      "Your simple inerest is =30000.0\n"
     ]
    }
   ],
   "source": [
    "initial_amount = float(input(\"Enter Initial Amount: \"))\n",
    "rate_of_interest = float(input(\"Enter Rate of Interest (in percentage): \"))\n",
    "time = float(input(\"Enter Time (in years): \"))\n",
    "simple_interest = (initial_amount * rate_of_interest * time) / 100\n",
    "print(f\"Your simple interest is: {simple_interest:.2f}\")"
   ]
  },
  {
   "cell_type": "code",
   "execution_count": null,
   "id": "dd3978c0-19c7-47c1-8414-997aff1ec1a9",
   "metadata": {},
   "outputs": [],
   "source": []
  }
 ],
 "metadata": {
  "kernelspec": {
   "display_name": "Python 3 (ipykernel)",
   "language": "python",
   "name": "python3"
  },
  "language_info": {
   "codemirror_mode": {
    "name": "ipython",
    "version": 3
   },
   "file_extension": ".py",
   "mimetype": "text/x-python",
   "name": "python",
   "nbconvert_exporter": "python",
   "pygments_lexer": "ipython3",
   "version": "3.12.4"
  }
 },
 "nbformat": 4,
 "nbformat_minor": 5
}
