{
 "cells": [
  {
   "cell_type": "code",
   "execution_count": 5,
   "id": "2575a4b2-ec80-4ec9-b59f-aaeda12640eb",
   "metadata": {},
   "outputs": [
    {
     "name": "stdout",
     "output_type": "stream",
     "text": [
      "\n",
      "Enter 1 to Store a Contact number\n",
      "Enter 2 to Search a Contact number\n",
      "Enter 3 to Update a Contact number\n",
      "Enter 4 to View all Contacts\n",
      "Enter 5 to Filter Contacts by Gmail address\n",
      "Enter 9 to Exit\n"
     ]
    },
    {
     "name": "stdin",
     "output_type": "stream",
     "text": [
      "Enter a Number:  1\n",
      "Enter a name:  vishwa\n",
      "Enter a Contact Number:  8019696626\n",
      "Enter an email address:  vishwanath17270@gmail.com\n"
     ]
    },
    {
     "name": "stdout",
     "output_type": "stream",
     "text": [
      "Contact added: {'Vishwa': {'contactNo': '8019696626', 'email': 'vishwanath17270@gmail.com'}}\n"
     ]
    },
    {
     "name": "stdin",
     "output_type": "stream",
     "text": [
      "Press 0 to continue or 9 to exit:  0\n"
     ]
    },
    {
     "name": "stdout",
     "output_type": "stream",
     "text": [
      "\n",
      "Enter 1 to Store a Contact number\n",
      "Enter 2 to Search a Contact number\n",
      "Enter 3 to Update a Contact number\n",
      "Enter 4 to View all Contacts\n",
      "Enter 5 to Filter Contacts by Gmail address\n",
      "Enter 9 to Exit\n"
     ]
    },
    {
     "name": "stdin",
     "output_type": "stream",
     "text": [
      "Enter a Number:  pavan\n"
     ]
    },
    {
     "name": "stdout",
     "output_type": "stream",
     "text": [
      "Invalid input! Please enter a valid number.\n",
      "\n",
      "Enter 1 to Store a Contact number\n",
      "Enter 2 to Search a Contact number\n",
      "Enter 3 to Update a Contact number\n",
      "Enter 4 to View all Contacts\n",
      "Enter 5 to Filter Contacts by Gmail address\n",
      "Enter 9 to Exit\n"
     ]
    },
    {
     "name": "stdin",
     "output_type": "stream",
     "text": [
      "Enter a Number:  1234567890\n"
     ]
    },
    {
     "name": "stdout",
     "output_type": "stream",
     "text": [
      "Invalid input! Please enter 1, 2, 3, 4, 5, or 9.\n"
     ]
    },
    {
     "name": "stdin",
     "output_type": "stream",
     "text": [
      "Press 0 to continue or 9 to exit:  1\n"
     ]
    },
    {
     "name": "stdout",
     "output_type": "stream",
     "text": [
      "\n",
      "Enter 1 to Store a Contact number\n",
      "Enter 2 to Search a Contact number\n",
      "Enter 3 to Update a Contact number\n",
      "Enter 4 to View all Contacts\n",
      "Enter 5 to Filter Contacts by Gmail address\n",
      "Enter 9 to Exit\n"
     ]
    },
    {
     "name": "stdin",
     "output_type": "stream",
     "text": [
      "Enter a Number:  1234567890\n"
     ]
    },
    {
     "name": "stdout",
     "output_type": "stream",
     "text": [
      "Invalid input! Please enter 1, 2, 3, 4, 5, or 9.\n"
     ]
    },
    {
     "name": "stdin",
     "output_type": "stream",
     "text": [
      "Press 0 to continue or 9 to exit:  1\n"
     ]
    },
    {
     "name": "stdout",
     "output_type": "stream",
     "text": [
      "\n",
      "Enter 1 to Store a Contact number\n",
      "Enter 2 to Search a Contact number\n",
      "Enter 3 to Update a Contact number\n",
      "Enter 4 to View all Contacts\n",
      "Enter 5 to Filter Contacts by Gmail address\n",
      "Enter 9 to Exit\n"
     ]
    },
    {
     "name": "stdin",
     "output_type": "stream",
     "text": [
      "Enter a Number:  1\n",
      "Enter a name:  pavan\n",
      "Enter a Contact Number:  1234567890\n",
      "Enter an email address:  vishwanath86860@gmail.com\n"
     ]
    },
    {
     "name": "stdout",
     "output_type": "stream",
     "text": [
      "Contact added: {'Vishwa': {'contactNo': '8019696626', 'email': 'vishwanath17270@gmail.com'}, 'Pavan': {'contactNo': '1234567890', 'email': 'vishwanath86860@gmail.com'}}\n"
     ]
    },
    {
     "name": "stdin",
     "output_type": "stream",
     "text": [
      "Press 0 to continue or 9 to exit:  0\n"
     ]
    },
    {
     "name": "stdout",
     "output_type": "stream",
     "text": [
      "\n",
      "Enter 1 to Store a Contact number\n",
      "Enter 2 to Search a Contact number\n",
      "Enter 3 to Update a Contact number\n",
      "Enter 4 to View all Contacts\n",
      "Enter 5 to Filter Contacts by Gmail address\n",
      "Enter 9 to Exit\n"
     ]
    },
    {
     "name": "stdin",
     "output_type": "stream",
     "text": [
      "Enter a Number:  4\n"
     ]
    },
    {
     "name": "stdout",
     "output_type": "stream",
     "text": [
      "Contacts:\n",
      "Vishwa: 8019696626 (vishwanath17270@gmail.com)\n",
      "Pavan: 1234567890 (vishwanath86860@gmail.com)\n"
     ]
    },
    {
     "name": "stdin",
     "output_type": "stream",
     "text": [
      "Press 0 to continue or 9 to exit:  0\n"
     ]
    },
    {
     "name": "stdout",
     "output_type": "stream",
     "text": [
      "\n",
      "Enter 1 to Store a Contact number\n",
      "Enter 2 to Search a Contact number\n",
      "Enter 3 to Update a Contact number\n",
      "Enter 4 to View all Contacts\n",
      "Enter 5 to Filter Contacts by Gmail address\n",
      "Enter 9 to Exit\n"
     ]
    },
    {
     "name": "stdin",
     "output_type": "stream",
     "text": [
      "Enter a Number:  2\n",
      "Enter a Name to search:  vishwa\n"
     ]
    },
    {
     "name": "stdout",
     "output_type": "stream",
     "text": [
      "Name: Vishwa contact number: 8019696626, email: vishwanath17270@gmail.com\n"
     ]
    },
    {
     "name": "stdin",
     "output_type": "stream",
     "text": [
      "Press 0 to continue or 9 to exit:  5\n"
     ]
    },
    {
     "name": "stdout",
     "output_type": "stream",
     "text": [
      "\n",
      "Enter 1 to Store a Contact number\n",
      "Enter 2 to Search a Contact number\n",
      "Enter 3 to Update a Contact number\n",
      "Enter 4 to View all Contacts\n",
      "Enter 5 to Filter Contacts by Gmail address\n",
      "Enter 9 to Exit\n"
     ]
    },
    {
     "name": "stdin",
     "output_type": "stream",
     "text": [
      "Enter a Number:  5\n"
     ]
    },
    {
     "name": "stdout",
     "output_type": "stream",
     "text": [
      "Contacts with Gmail address:\n",
      "Vishwa: 8019696626 (vishwanath17270@gmail.com)\n",
      "Pavan: 1234567890 (vishwanath86860@gmail.com)\n"
     ]
    },
    {
     "name": "stdin",
     "output_type": "stream",
     "text": [
      "Press 0 to continue or 9 to exit:  0\n"
     ]
    },
    {
     "name": "stdout",
     "output_type": "stream",
     "text": [
      "\n",
      "Enter 1 to Store a Contact number\n",
      "Enter 2 to Search a Contact number\n",
      "Enter 3 to Update a Contact number\n",
      "Enter 4 to View all Contacts\n",
      "Enter 5 to Filter Contacts by Gmail address\n",
      "Enter 9 to Exit\n"
     ]
    },
    {
     "name": "stdin",
     "output_type": "stream",
     "text": [
      "Enter a Number:  9\n"
     ]
    },
    {
     "name": "stdout",
     "output_type": "stream",
     "text": [
      "Exiting the program.\n"
     ]
    }
   ],
   "source": [
    "# Initialize an empty dictionary to store contact information\n",
    "dic1 = dict()\n",
    "\n",
    "# Function to store a contact\n",
    "def store_Contact(name, contactNo, email):\n",
    "    # Store the contact information (name as key, contact number and email as values in a dictionary)\n",
    "    dic1[name] = {\"contactNo\": contactNo, \"email\": email}\n",
    "    print(f\"Contact added: {dic1}\")\n",
    "\n",
    "# Function to search for a contact by name\n",
    "def search_Contact(name):\n",
    "    # Check if the name exists in the dictionary\n",
    "    if name in dic1:\n",
    "        # If the name exists, print the contact information\n",
    "        print(f\"Name: {name}, contact number: {dic1[name]['contactNo']}, email: {dic1[name]['email']}\")\n",
    "    else:\n",
    "        # If the name doesn't exist, print a message\n",
    "        print(f\"{name} is not in the contact list\")\n",
    "\n",
    "# Function to update an existing contact\n",
    "def update_Contact(name, Number, email):\n",
    "    # Check if the contact exists in the dictionary\n",
    "    if name in dic1:\n",
    "        # Update the contact number and email\n",
    "        dic1[name] = {\"contactNo\": Number, \"email\": email}\n",
    "        print(f\"{name}'s contact updated to {Number}, email: {email}\")\n",
    "    else:\n",
    "        # If the contact doesn't exist, print a message\n",
    "        print(f\"{name} is not in the contact list\")\n",
    "\n",
    "# Function to view all stored contacts\n",
    "def view_Contacts():\n",
    "    # Check if there are any contacts stored\n",
    "    if dic1:\n",
    "        print(\"Contacts:\")\n",
    "        # Iterate over all contacts and print each one\n",
    "        for name, details in dic1.items():\n",
    "            print(f\"{name}: {details['contactNo']} ({details['email']})\")\n",
    "    else:\n",
    "        # If no contacts are available, print a message\n",
    "        print(\"No contacts found.\")\n",
    "\n",
    "# Function to filter contacts with Gmail addresses\n",
    "def filter_Contacts():\n",
    "    # Use dictionary comprehension to filter contacts with 'gmail' in the email\n",
    "    gmail_contacts = {name: details for name, details in dic1.items() if \"gmail\" in details[\"email\"]}\n",
    "    if gmail_contacts:\n",
    "        # If there are any Gmail contacts, print them\n",
    "        print(\"Contacts with Gmail address:\")\n",
    "        for name, details in gmail_contacts.items():\n",
    "            print(f\"{name}: {details['contactNo']} ({details['email']})\")\n",
    "    else:\n",
    "        # If no Gmail contacts are found, print a message\n",
    "        print(\"No contacts with Gmail address found.\")\n",
    "\n",
    "# Validation function for contact numbers\n",
    "def validate_contact_number(contactNo):\n",
    "    \"\"\"Ensure the contact number is a valid string of digits.\"\"\"\n",
    "    # Check if the contact number contains only digits and is at least 10 digits long\n",
    "    if contactNo.isdigit() and len(contactNo) >= 10:\n",
    "        return True\n",
    "    print(\"Please enter a valid 10-digit contact number.\")\n",
    "    return False\n",
    "\n",
    "# Validation function for email addresses\n",
    "def validate_email(email):\n",
    "    \"\"\"Simple validation to check for '@' and '.' in the email.\"\"\"\n",
    "    # Ensure the email contains '@' and '.' to be considered valid\n",
    "    if \"@\" in email and \".\" in email:\n",
    "        return True\n",
    "    print(\"Invalid email format! Please enter a valid email.\")\n",
    "    return False\n",
    "\n",
    "# Main program loop\n",
    "while True:\n",
    "    # Print the available options for the user\n",
    "    print(\"\\nEnter 1 to Store a Contact number\")\n",
    "    print(\"Enter 2 to Search a Contact number\")\n",
    "    print(\"Enter 3 to Update a Contact number\")\n",
    "    print(\"Enter 4 to View all Contacts\")\n",
    "    print(\"Enter 5 to Filter Contacts by Gmail address\")\n",
    "    print(\"Enter 9 to Exit\")\n",
    "    \n",
    "    # Try to get a valid input from the user\n",
    "    try:\n",
    "        res = int(input(\"Enter a Number: \"))\n",
    "    except ValueError:\n",
    "        print(\"Invalid input! Please enter a valid number.\")\n",
    "        continue\n",
    "\n",
    "    # Option 1: Store a contact\n",
    "    if res == 1:\n",
    "        name = input(\"Enter a name: \").capitalize()\n",
    "        while not name.isalpha():\n",
    "            print(\"Please enter a valid Name\")\n",
    "            name = input(\"Enter a name: \").capitalize()\n",
    "\n",
    "        contactNo = input(\"Enter a Contact Number: \")\n",
    "        while not validate_contact_number(contactNo):\n",
    "            contactNo = input(\"Enter a valid Contact Number: \")\n",
    "\n",
    "        email = input(\"Enter an email address: \")\n",
    "        while not validate_email(email):\n",
    "            email = input(\"Enter a valid email address: \")\n",
    "\n",
    "        store_Contact(name, contactNo, email)\n",
    "    \n",
    "    # Option 2: Search for a contact\n",
    "    elif res == 2:\n",
    "        name = input(\"Enter a Name to search: \").capitalize()\n",
    "        while not name.isalpha():\n",
    "            print(\"Please enter a valid Name\")\n",
    "            name = input(\"Enter a Name to search: \").capitalize()\n",
    "        search_Contact(name)\n",
    "    \n",
    "    # Option 3: Update a contact\n",
    "    elif res == 3:\n",
    "        name = input(\"Enter a Name whose Contact number you want to update: \").capitalize()\n",
    "        while not name.isalpha():\n",
    "            print(\"Please enter a valid Name\")\n",
    "            name = input(\"Enter a Name whose Contact number you want to update: \").capitalize()\n",
    "        \n",
    "        contactNo = input(\"Enter a new contact number: \")\n",
    "        while not validate_contact_number(contactNo):\n",
    "            contactNo = input(\"Enter a new valid contact number: \")\n",
    "\n",
    "        email = input(\"Enter a new email address: \")\n",
    "        while not validate_email(email):\n",
    "            email = input(\"Enter a new valid email address: \")\n",
    "\n",
    "        update_Contact(name, contactNo, email)\n",
    "\n",
    "    # Option 4: View all contacts\n",
    "    elif res == 4:\n",
    "        view_Contacts()\n",
    "    \n",
    "    # Option 5: Filter contacts by Gmail address\n",
    "    elif res == 5:\n",
    "        filter_Contacts()\n",
    "\n",
    "    # Option 9: Exit the program\n",
    "    elif res == 9:\n",
    "        print(\"Exiting the program.\")\n",
    "        break\n",
    "    \n",
    "    # Handle invalid input\n",
    "    else:\n",
    "        print(\"Invalid input! Please enter 1, 2, 3, 4, 5, or 9.\")\n",
    "\n",
    "    # Continuation prompt\n",
    "    cont = input(\"Press 0 to continue or 9 to exit: \")\n",
    "    if cont == '9':\n",
    "        print(\"Exiting the program.\")\n",
    "        break\n"
   ]
  },
  {
   "cell_type": "code",
   "execution_count": null,
   "id": "08f65aaf-ae07-45db-b941-a787dc1a73ee",
   "metadata": {},
   "outputs": [],
   "source": []
  }
 ],
 "metadata": {
  "kernelspec": {
   "display_name": "Python 3 (ipykernel)",
   "language": "python",
   "name": "python3"
  },
  "language_info": {
   "codemirror_mode": {
    "name": "ipython",
    "version": 3
   },
   "file_extension": ".py",
   "mimetype": "text/x-python",
   "name": "python",
   "nbconvert_exporter": "python",
   "pygments_lexer": "ipython3",
   "version": "3.12.4"
  }
 },
 "nbformat": 4,
 "nbformat_minor": 5
}
