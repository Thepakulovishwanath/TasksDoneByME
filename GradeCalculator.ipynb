{
 "cells": [
  {
   "cell_type": "code",
   "execution_count": 19,
   "id": "44d910ee-018f-49d5-ad31-2639d69d1360",
   "metadata": {},
   "outputs": [
    {
     "name": "stdin",
     "output_type": "stream",
     "text": [
      "Enter Maths marks:  50\n",
      "Enter Science marks:  50\n",
      "Enter English marks:  50\n"
     ]
    },
    {
     "name": "stdout",
     "output_type": "stream",
     "text": [
      "You got C grade\n",
      "Good and work hard to improve your perfomance...\n"
     ]
    }
   ],
   "source": [
    "mat = int(input(\"Enter Maths marks: \"))\n",
    "sci = int(input(\"Enter Science marks: \"))\n",
    "eng = int(input(\"Enter English marks: \"))\n",
    "avg = (mat+sci+eng)/3\n",
    "if mat >=35 and sci >=35 and eng >=35:\n",
    "    if avg >= 80:\n",
    "        print(\"You got A grade\")\n",
    "        print(\"Very good keep it up!\")\n",
    "    elif avg >= 65:\n",
    "        print(\"You got B grade\")\n",
    "        print(\"Good keep it up!\")\n",
    "    elif avg >= 50:\n",
    "        print(\"You got C grade\")\n",
    "        print(\"Good and work hard to improve your perfomance...\")\n",
    "    elif avg >= 35:\n",
    "        print(\"You got D grade\")\n",
    "        print(\"Its high time to improve yourself\")\n",
    "    else:\n",
    "        print(\"You got F grade\")\n",
    "        print(\"You failed in Exam.., Better luck next time\")\n",
    "else:\n",
    "        print(\"You got F grade\")\n",
    "        print(\"You failed in at least one subject. Better luck next time.\")"
   ]
  },
  {
   "cell_type": "code",
   "execution_count": null,
   "id": "f8b80b43-eb16-45f3-a5ca-914686a95d97",
   "metadata": {},
   "outputs": [],
   "source": []
  }
 ],
 "metadata": {
  "kernelspec": {
   "display_name": "Python 3 (ipykernel)",
   "language": "python",
   "name": "python3"
  },
  "language_info": {
   "codemirror_mode": {
    "name": "ipython",
    "version": 3
   },
   "file_extension": ".py",
   "mimetype": "text/x-python",
   "name": "python",
   "nbconvert_exporter": "python",
   "pygments_lexer": "ipython3",
   "version": "3.12.4"
  }
 },
 "nbformat": 4,
 "nbformat_minor": 5
}
