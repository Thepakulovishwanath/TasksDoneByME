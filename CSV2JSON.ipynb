{
 "cells": [
  {
   "cell_type": "code",
   "execution_count": 62,
   "id": "bfdd873b-ac17-4b15-adfd-adb02e2aa026",
   "metadata": {},
   "outputs": [
    {
     "name": "stdout",
     "output_type": "stream",
     "text": [
      "[['Date', 'Product', 'Quantity', 'Price_per_unit', 'Total_Sale'], ['2024-01-01', 'Laptop', '2', '700', '1400'], ['2024-01-02', 'Smartphone', '5', '400', '2000'], ['2024-01-03', 'Tablet', '3', '300', '900'], ['2024-01-04', 'Monitor', '4', '150', '600'], ['2024-01-05', 'Keyboard', '10', '20', '200'], ['2024-01-06', 'Mouse', '15', '10', '150'], ['2024-01-07', 'Headphones', '8', '50', '400'], ['2024-01-08', 'Charger', '7', '25', '175'], ['2024-01-09', 'Smartwatch', '6', '250', '1500'], ['2024-01-10', 'Router', '2', '100', '200'], ['2024-01-11', 'Speaker', '5', '80', '400'], ['2024-01-12', 'Webcam', '3', '60', '180'], ['2024-01-13', 'Printer', '4', '180', '720'], ['2024-01-14', 'Desk', '2', '300', '600'], ['2024-01-15', 'Chair', '5', '150', '750'], ['2024-01-16', 'USB Drive', '20', '15', '300'], ['2024-01-17', 'External HDD', '3', '100', '300'], ['2024-01-18', 'Power Bank', '6', '40', '240'], ['2024-01-19', 'Memory Card', '12', '20', '240'], ['2024-01-20', 'Microphone', '3', '70', '210'], ['2024-01-21', 'Tripod', '2', '50', '100'], ['2024-01-22', 'Camera', '1', '500', '500'], ['2024-01-23', 'Lens', '1', '300', '300'], ['2024-01-24', 'Drone', '2', '800', '1600'], ['2024-01-25', 'VR Headset', '2', '400', '800'], ['2024-01-26', 'Gaming Console', '3', '500', '1500'], ['2024-01-27', 'Game Controller', '5', '60', '300'], ['2024-01-28', 'TV', '1', '1200', '1200'], ['2024-01-29', 'Projector', '1', '400', '400'], ['2024-01-30', 'Smart Light', '10', '30', '300'], ['2024-01-31', 'Air Conditioner', '2', '600', '1200'], ['2024-02-01', 'Washing Machine', '1', '700', '700'], ['2024-02-02', 'Refrigerator', '1', '1000', '1000'], ['2024-02-03', 'Oven', '2', '300', '600'], ['2024-02-04', 'Dishwasher', '1', '800', '800'], ['2024-02-05', 'Coffee Machine', '3', '150', '450'], ['2024-02-06', 'Blender', '4', '60', '240'], ['2024-02-07', 'Toaster', '5', '40', '200'], ['2024-02-08', 'Iron', '6', '50', '300'], ['2024-02-09', 'Vacuum Cleaner', '2', '250', '500'], ['2024-02-10', 'Fan', '3', '100', '300'], ['2024-02-11', 'Heater', '1', '200', '200'], ['2024-02-12', 'Electric Kettle', '7', '30', '210'], ['2024-02-13', 'Hair Dryer', '4', '60', '240'], ['2024-02-14', 'Shaver', '3', '80', '240'], ['2024-02-15', 'Electric Toothbrush', '5', '40', '200'], ['2024-02-16', 'Smart Plug', '10', '25', '250'], ['2024-02-17', 'Robot Vacuum', '1', '400', '400']]\n"
     ]
    }
   ],
   "source": [
    "import csv\n",
    "import json\n",
    "f1 = open(\"sales_data.csv\",\"r\")\n",
    "read = csv.reader(f1)\n",
    "#for data in read:\n",
    "#    print(data)\n",
    "csv_data = [row for row in read]\n",
    "print(csv_data)"
   ]
  },
  {
   "cell_type": "code",
   "execution_count": 68,
   "id": "dc50e372-9a40-4df5-b54b-b513a6c0716f",
   "metadata": {},
   "outputs": [],
   "source": [
    "f2 = open(\"sales_data1.json\",\"w\")"
   ]
  },
  {
   "cell_type": "code",
   "execution_count": 70,
   "id": "aefc5569-1544-499f-87c4-36d0db649acd",
   "metadata": {},
   "outputs": [],
   "source": [
    "json.dump(csv_data,f2)"
   ]
  },
  {
   "cell_type": "code",
   "execution_count": 72,
   "id": "58279256-5e67-4045-a77e-672a4928cc26",
   "metadata": {},
   "outputs": [],
   "source": [
    "f2.close()"
   ]
  },
  {
   "cell_type": "code",
   "execution_count": 74,
   "id": "917257e9-8c7c-4350-b1a3-e3bc55e26c5b",
   "metadata": {},
   "outputs": [
    {
     "name": "stdout",
     "output_type": "stream",
     "text": [
      "['Date', 'Product', 'Quantity', 'Price_per_unit', 'Total_Sale']\n",
      "['2024-01-01', 'Laptop', '2', '700', '1400']\n",
      "['2024-01-02', 'Smartphone', '5', '400', '2000']\n",
      "['2024-01-03', 'Tablet', '3', '300', '900']\n",
      "['2024-01-04', 'Monitor', '4', '150', '600']\n",
      "['2024-01-05', 'Keyboard', '10', '20', '200']\n",
      "['2024-01-06', 'Mouse', '15', '10', '150']\n",
      "['2024-01-07', 'Headphones', '8', '50', '400']\n",
      "['2024-01-08', 'Charger', '7', '25', '175']\n",
      "['2024-01-09', 'Smartwatch', '6', '250', '1500']\n",
      "['2024-01-10', 'Router', '2', '100', '200']\n",
      "['2024-01-11', 'Speaker', '5', '80', '400']\n",
      "['2024-01-12', 'Webcam', '3', '60', '180']\n",
      "['2024-01-13', 'Printer', '4', '180', '720']\n",
      "['2024-01-14', 'Desk', '2', '300', '600']\n",
      "['2024-01-15', 'Chair', '5', '150', '750']\n",
      "['2024-01-16', 'USB Drive', '20', '15', '300']\n",
      "['2024-01-17', 'External HDD', '3', '100', '300']\n",
      "['2024-01-18', 'Power Bank', '6', '40', '240']\n",
      "['2024-01-19', 'Memory Card', '12', '20', '240']\n",
      "['2024-01-20', 'Microphone', '3', '70', '210']\n",
      "['2024-01-21', 'Tripod', '2', '50', '100']\n",
      "['2024-01-22', 'Camera', '1', '500', '500']\n",
      "['2024-01-23', 'Lens', '1', '300', '300']\n",
      "['2024-01-24', 'Drone', '2', '800', '1600']\n",
      "['2024-01-25', 'VR Headset', '2', '400', '800']\n",
      "['2024-01-26', 'Gaming Console', '3', '500', '1500']\n",
      "['2024-01-27', 'Game Controller', '5', '60', '300']\n",
      "['2024-01-28', 'TV', '1', '1200', '1200']\n",
      "['2024-01-29', 'Projector', '1', '400', '400']\n",
      "['2024-01-30', 'Smart Light', '10', '30', '300']\n",
      "['2024-01-31', 'Air Conditioner', '2', '600', '1200']\n",
      "['2024-02-01', 'Washing Machine', '1', '700', '700']\n",
      "['2024-02-02', 'Refrigerator', '1', '1000', '1000']\n",
      "['2024-02-03', 'Oven', '2', '300', '600']\n",
      "['2024-02-04', 'Dishwasher', '1', '800', '800']\n",
      "['2024-02-05', 'Coffee Machine', '3', '150', '450']\n",
      "['2024-02-06', 'Blender', '4', '60', '240']\n",
      "['2024-02-07', 'Toaster', '5', '40', '200']\n",
      "['2024-02-08', 'Iron', '6', '50', '300']\n",
      "['2024-02-09', 'Vacuum Cleaner', '2', '250', '500']\n",
      "['2024-02-10', 'Fan', '3', '100', '300']\n",
      "['2024-02-11', 'Heater', '1', '200', '200']\n",
      "['2024-02-12', 'Electric Kettle', '7', '30', '210']\n",
      "['2024-02-13', 'Hair Dryer', '4', '60', '240']\n",
      "['2024-02-14', 'Shaver', '3', '80', '240']\n",
      "['2024-02-15', 'Electric Toothbrush', '5', '40', '200']\n",
      "['2024-02-16', 'Smart Plug', '10', '25', '250']\n",
      "['2024-02-17', 'Robot Vacuum', '1', '400', '400']\n"
     ]
    }
   ],
   "source": [
    "f3 = open(\"sales_data1.json\",\"r\")\n",
    "data = json.load(f3)\n",
    "for i in data:\n",
    "    print(i)"
   ]
  },
  {
   "cell_type": "code",
   "execution_count": 56,
   "id": "5ea4594e-7d92-42a8-9586-a7483e54b8fa",
   "metadata": {},
   "outputs": [],
   "source": [
    "f2.close()"
   ]
  },
  {
   "cell_type": "code",
   "execution_count": null,
   "id": "12cc5fe6-f4fe-4679-a1d1-1f2ea6fda957",
   "metadata": {},
   "outputs": [],
   "source": []
  }
 ],
 "metadata": {
  "kernelspec": {
   "display_name": "Python 3 (ipykernel)",
   "language": "python",
   "name": "python3"
  },
  "language_info": {
   "codemirror_mode": {
    "name": "ipython",
    "version": 3
   },
   "file_extension": ".py",
   "mimetype": "text/x-python",
   "name": "python",
   "nbconvert_exporter": "python",
   "pygments_lexer": "ipython3",
   "version": "3.12.4"
  }
 },
 "nbformat": 4,
 "nbformat_minor": 5
}
